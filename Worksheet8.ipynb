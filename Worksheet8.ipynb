{
  "nbformat": 4,
  "nbformat_minor": 0,
  "metadata": {
    "colab": {
      "provenance": []
    },
    "kernelspec": {
      "name": "python3",
      "display_name": "Python 3"
    },
    "language_info": {
      "name": "python"
    }
  },
  "cells": [
    {
      "cell_type": "markdown",
      "source": [
        "\n",
        "\n",
        "##Ensemble Methods and Hyperparameter Tuning.\n"
      ],
      "metadata": {
        "id": "gNpPxuLxoJgD"
      }
    },
    {
      "cell_type": "markdown",
      "source": [
        "\n",
        "###1. Implement Classification Models:\n"
      ],
      "metadata": {
        "id": "9Hjd6w1aoUJZ"
      }
    },
    {
      "cell_type": "markdown",
      "source": [
        "• Train a Decision Tree Classifier and a Random Forest Classifier using scikit-learn.\n",
        "\n",
        "• Compare the models based on their F1 scores."
      ],
      "metadata": {
        "id": "FNYoA349ohzb"
      }
    },
    {
      "cell_type": "code",
      "source": [
        "# Import necessary libraries\n",
        "import numpy as np\n",
        "import pandas as pd\n",
        "from sklearn.datasets import load_wine\n",
        "from sklearn.model_selection import train_test_split\n",
        "from sklearn.tree import DecisionTreeClassifier\n",
        "from sklearn.ensemble import RandomForestClassifier\n",
        "from sklearn.metrics import f1_score\n"
      ],
      "metadata": {
        "id": "24KKZnwAoyc3"
      },
      "execution_count": 16,
      "outputs": []
    },
    {
      "cell_type": "code",
      "execution_count": 17,
      "metadata": {
        "colab": {
          "base_uri": "https://localhost:8080/"
        },
        "id": "9FVa_75qoCsY",
        "outputId": "57dca4c3-a6d2-48f5-8354-a450b148aa8a"
      },
      "outputs": [
        {
          "output_type": "stream",
          "name": "stdout",
          "text": [
            "Decision Tree F1 Score: 0.9440\n",
            "Random Forest F1 Score: 1.0000\n"
          ]
        }
      ],
      "source": [
        "# Load dataset\n",
        "data = load_wine()\n",
        "X, y = data.data, data.target\n",
        "\n",
        "# Split into train and test sets\n",
        "X_train, X_test, y_train, y_test = train_test_split(X, y, test_size=0.2, random_state=42)\n",
        "\n",
        "# Train Decision Tree Classifier\n",
        "dt_clf = DecisionTreeClassifier(random_state=42)\n",
        "dt_clf.fit(X_train, y_train)\n",
        "\n",
        "# Train Random Forest Classifier\n",
        "rf_clf = RandomForestClassifier(random_state=42)\n",
        "rf_clf.fit(X_train, y_train)\n",
        "\n",
        "# Evaluate F1 scores\n",
        "dt_f1 = f1_score(y_test, dt_clf.predict(X_test), average=\"weighted\")\n",
        "rf_f1 = f1_score(y_test, rf_clf.predict(X_test), average=\"weighted\")\n",
        "\n",
        "print(f\"Decision Tree F1 Score: {dt_f1:.4f}\")\n",
        "print(f\"Random Forest F1 Score: {rf_f1:.4f}\")\n"
      ]
    },
    {
      "cell_type": "markdown",
      "source": [
        "###2. Hyperparameter Tuning:"
      ],
      "metadata": {
        "id": "x78khW9XpIe9"
      }
    },
    {
      "cell_type": "markdown",
      "source": [
        "• Identify three hyperparameters of the Random Forest Classifier.\n",
        "\n",
        "• Perform hyperparameter tuning using GridSearchCV to optimize these parameters.\n",
        "\n",
        "• Take hints from the scikit-learn documentation to guide the implementation."
      ],
      "metadata": {
        "id": "eQi5aspCpLhf"
      }
    },
    {
      "cell_type": "code",
      "source": [
        "from sklearn.model_selection import GridSearchCV\n",
        "\n",
        "# Define hyperparameters to tune\n",
        "param_grid = {\n",
        "    'n_estimators': [50, 100, 200],\n",
        "    'max_depth': [None, 10, 20],\n",
        "    'min_samples_split': [2, 5, 10]\n",
        "}\n",
        "\n",
        "# Initialize GridSearchCV\n",
        "grid_search = GridSearchCV(\n",
        "    estimator=RandomForestClassifier(random_state=42),\n",
        "    param_grid=param_grid,\n",
        "    scoring='f1_weighted',\n",
        "    cv=3,\n",
        "    n_jobs=-1\n",
        ")\n",
        "\n",
        "# Perform grid search\n",
        "grid_search.fit(X_train, y_train)\n",
        "\n",
        "# Best hyperparameters and score\n",
        "print(f\"Best Hyperparameters: {grid_search.best_params_}\")\n",
        "print(f\"Best F1 Score: {grid_search.best_score_:.4f}\")\n"
      ],
      "metadata": {
        "colab": {
          "base_uri": "https://localhost:8080/"
        },
        "id": "TCHj3C4ZpK6s",
        "outputId": "da697a71-715d-404d-e888-7b10cc66c9ed"
      },
      "execution_count": 18,
      "outputs": [
        {
          "output_type": "stream",
          "name": "stdout",
          "text": [
            "Best Hyperparameters: {'max_depth': None, 'min_samples_split': 2, 'n_estimators': 100}\n",
            "Best F1 Score: 0.9859\n"
          ]
        }
      ]
    },
    {
      "cell_type": "markdown",
      "source": [
        "###3.Implement Regression Model:"
      ],
      "metadata": {
        "id": "fb0XXWw3txE9"
      }
    },
    {
      "cell_type": "markdown",
      "source": [
        "• Train a Decision Tree Regressor and a Random Forest Regressor using scikit-learn.\n",
        "\n",
        "• Identify three parameters for Random Forest Regressio and Perform hyperparameter tuning using\n",
        "RandomSearchCV to optimize these parameters."
      ],
      "metadata": {
        "id": "qO6wxBuct1eu"
      }
    },
    {
      "cell_type": "code",
      "source": [
        "from sklearn.tree import DecisionTreeRegressor\n",
        "from sklearn.ensemble import RandomForestRegressor\n",
        "from sklearn.metrics import mean_squared_error\n",
        "\n",
        "# Train Decision Tree Regressor\n",
        "dt_reg = DecisionTreeRegressor(random_state=42)\n",
        "dt_reg.fit(X_train, y_train)\n",
        "\n",
        "# Train Random Forest Regressor\n",
        "rf_reg = RandomForestRegressor(random_state=42)\n",
        "rf_reg.fit(X_train, y_train)\n",
        "\n",
        "# Evaluate MSE\n",
        "dt_mse = mean_squared_error(y_test, dt_reg.predict(X_test))\n",
        "rf_mse = mean_squared_error(y_test, rf_reg.predict(X_test))\n",
        "\n",
        "print(f\"Decision Tree MSE: {dt_mse:.4f}\")\n",
        "print(f\"Random Forest MSE: {rf_mse:.4f}\")\n"
      ],
      "metadata": {
        "colab": {
          "base_uri": "https://localhost:8080/"
        },
        "id": "j-_523h4t-iP",
        "outputId": "a6ea8a6b-99f0-4546-9442-c2c41e979444"
      },
      "execution_count": 19,
      "outputs": [
        {
          "output_type": "stream",
          "name": "stdout",
          "text": [
            "Decision Tree MSE: 0.1667\n",
            "Random Forest MSE: 0.0648\n"
          ]
        }
      ]
    },
    {
      "cell_type": "code",
      "source": [
        "from sklearn.model_selection import RandomizedSearchCV\n",
        "\n",
        "# Define hyperparameters to tune\n",
        "param_dist = {\n",
        "    'n_estimators': [50, 100, 200],\n",
        "    'max_depth': [None, 10, 20, 30],\n",
        "    'min_samples_split': [2, 5, 10],\n",
        "    'min_samples_leaf': [1, 2, 4]\n",
        "}\n",
        "\n",
        "# Initialize RandomizedSearchCV\n",
        "random_search = RandomizedSearchCV(\n",
        "    estimator=RandomForestRegressor(random_state=42),\n",
        "    param_distributions=param_dist,\n",
        "    n_iter=50,  # Number of random parameter combinations to try\n",
        "    scoring='neg_mean_squared_error',\n",
        "    cv=3,\n",
        "    n_jobs=-1,\n",
        "    random_state=42\n",
        ")\n",
        "\n",
        "# Perform random search\n",
        "random_search.fit(X_train, y_train)\n",
        "\n",
        "# Best hyperparameters and score\n",
        "print(f\"Best Hyperparameters: {random_search.best_params_}\")\n",
        "print(f\"Best MSE: {-random_search.best_score_:.4f}\")\n"
      ],
      "metadata": {
        "colab": {
          "base_uri": "https://localhost:8080/"
        },
        "id": "t6u-bgT1uHVO",
        "outputId": "e09c6124-2293-4000-c077-58bbe2696b63"
      },
      "execution_count": 20,
      "outputs": [
        {
          "output_type": "stream",
          "name": "stdout",
          "text": [
            "Best Hyperparameters: {'n_estimators': 200, 'min_samples_split': 2, 'min_samples_leaf': 1, 'max_depth': 30}\n",
            "Best MSE: 0.0524\n"
          ]
        }
      ]
    }
  ]
}