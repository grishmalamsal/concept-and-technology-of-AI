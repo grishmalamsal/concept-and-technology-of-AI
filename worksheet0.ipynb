{
 "cells": [
  {
   "cell_type": "code",
   "execution_count": 15,
   "id": "0aba7b24-91f4-429c-8019-9409b880ad7b",
   "metadata": {},
   "outputs": [
    {
     "name": "stdout",
     "output_type": "stream",
     "text": [
      "Temperature: 8.2°C -> Classification: cold\n",
      "Temperature: 17.4°C -> Classification: comfortable\n",
      "Temperature: 14.1°C -> Classification: mild\n",
      "Temperature: 7.9°C -> Classification: cold\n",
      "Temperature: 18.9°C -> Classification: comfortable\n",
      "Temperature: 13.5°C -> Classification: mild\n",
      "Temperature: 9.0°C -> Classification: cold\n",
      "Temperature: 17.8°C -> Classification: comfortable\n",
      "Temperature: 13.0°C -> Classification: mild\n",
      "Temperature: 8.5°C -> Classification: cold\n",
      "Temperature: 16.5°C -> Classification: comfortable\n",
      "Temperature: 12.9°C -> Classification: mild\n",
      "Temperature: 7.7°C -> Classification: cold\n",
      "Temperature: 17.2°C -> Classification: comfortable\n",
      "Temperature: 8.4°C -> Classification: cold\n",
      "Temperature: 16.7°C -> Classification: comfortable\n",
      "Temperature: 14.0°C -> Classification: mild\n",
      "Temperature: 9.5°C -> Classification: cold\n",
      "Temperature: 18.3°C -> Classification: comfortable\n",
      "Temperature: 13.4°C -> Classification: mild\n",
      "Temperature: 8.1°C -> Classification: cold\n",
      "Temperature: 17.9°C -> Classification: comfortable\n",
      "Temperature: 14.2°C -> Classification: mild\n",
      "Temperature: 7.6°C -> Classification: cold\n",
      "Temperature: 17.0°C -> Classification: comfortable\n",
      "Temperature: 12.8°C -> Classification: mild\n",
      "Temperature: 8.0°C -> Classification: cold\n",
      "Temperature: 16.8°C -> Classification: comfortable\n",
      "Temperature: 13.7°C -> Classification: mild\n",
      "Temperature: 7.8°C -> Classification: cold\n",
      "Temperature: 17.5°C -> Classification: comfortable\n",
      "Temperature: 13.6°C -> Classification: mild\n",
      "Temperature: 8.7°C -> Classification: cold\n",
      "Temperature: 17.1°C -> Classification: comfortable\n",
      "Temperature: 13.8°C -> Classification: mild\n",
      "Temperature: 9.2°C -> Classification: cold\n",
      "Temperature: 18.1°C -> Classification: comfortable\n",
      "Temperature: 13.9°C -> Classification: mild\n",
      "Temperature: 8.3°C -> Classification: cold\n",
      "Temperature: 16.4°C -> Classification: comfortable\n",
      "Temperature: 12.7°C -> Classification: mild\n",
      "Temperature: 8.9°C -> Classification: cold\n",
      "Temperature: 18.2°C -> Classification: comfortable\n",
      "Temperature: 13.1°C -> Classification: mild\n",
      "Temperature: 7.8°C -> Classification: cold\n",
      "Temperature: 16.6°C -> Classification: comfortable\n",
      "Temperature: 12.5°C -> Classification: mild\n"
     ]
    }
   ],
   "source": [
    "#task1\n",
    "def tempclass(temp):\n",
    "    if temp < 10:\n",
    "        return \"cold\"\n",
    "    elif 10 <= temp < 15:\n",
    "        return \"mild\"\n",
    "    elif 15 <= temp <= 20:\n",
    "        return \"comfortable\"\n",
    "    else:\n",
    "        return \"out of range\"\n",
    "\n",
    "\n",
    "temperature = [\n",
    "    8.2, 17.4, 14.1, 7.9, 18.9, 13.5, 9.0, 17.8, 13.0, 8.5, 16.5, 12.9, 7.7, 17.2,\n",
    "    8.4, 16.7, 14.0, 9.5, 18.3, 13.4, 8.1, 17.9, 14.2, 7.6, 17.0, 12.8, 8.0, 16.8,\n",
    "    13.7, 7.8, 17.5, 13.6, 8.7, 17.1, 13.8, 9.2, 18.1, 13.9, 8.3, 16.4, 12.7, 8.9,\n",
    "    18.2, 13.1, 7.8, 16.6, 12.5\n",
    "]\n",
    "\n",
    "tempclassifications = []\n",
    "\n",
    "for temp in temperature:\n",
    "    classification = tempclass(temp)\n",
    "    tempclassifications.append((temp, classification))\n",
    "\n",
    "\n",
    "for temp, classification in tempclassifications:\n",
    "    print(f\"Temperature: {temp}°C -> Classification: {classification}\")\n",
    "\n",
    "        "
   ]
  },
  {
   "cell_type": "code",
   "execution_count": 3,
   "id": "afc9ee37-4313-4f7b-a017-06e1601d1084",
   "metadata": {},
   "outputs": [
    {
     "name": "stdout",
     "output_type": "stream",
     "text": [
      "Number of 'cold' temperatures: 16\n",
      "Number of 'mild' temperatures: 15\n",
      "Number of 'comfortable' temperatures: 16\n"
     ]
    }
   ],
   "source": [
    "#task2\n",
    "def tempclass(temp):\n",
    "    if temp < 10:\n",
    "        return \"cold\"\n",
    "    elif 10 <= temp < 15:\n",
    "        return \"mild\"\n",
    "    elif 15 <= temp <= 20:\n",
    "        return \"comfortable\"\n",
    "    else:\n",
    "        return \"out of range\"\n",
    "\n",
    "\n",
    "temperature = [\n",
    "    8.2, 17.4, 14.1, 7.9, 18.9, 13.5, 9.0, 17.8, 13.0, 8.5, 16.5, 12.9, 7.7, 17.2,\n",
    "    8.4, 16.7, 14.0, 9.5, 18.3, 13.4, 8.1, 17.9, 14.2, 7.6, 17.0, 12.8, 8.0, 16.8,\n",
    "    13.7, 7.8, 17.5, 13.6, 8.7, 17.1, 13.8, 9.2, 18.1, 13.9, 8.3, 16.4, 12.7, 8.9,\n",
    "    18.2, 13.1, 7.8, 16.6, 12.5\n",
    "]\n",
    "\n",
    "\n",
    "cold_count = 0\n",
    "mild_count = 0\n",
    "comfortable_count = 0\n",
    "\n",
    "\n",
    "for temp in temperature:\n",
    "    classification = tempclass(temp)\n",
    "    if classification == \"cold\":\n",
    "        cold_count += 1\n",
    "    elif classification == \"mild\":\n",
    "        mild_count += 1\n",
    "    elif classification == \"comfortable\":\n",
    "        comfortable_count += 1\n",
    "\n",
    "print(f\"Number of 'cold' temperatures: {cold_count}\")\n",
    "print(f\"Number of 'mild' temperatures: {mild_count}\")\n",
    "print(f\"Number of 'comfortable' temperatures: {comfortable_count}\")\n"
   ]
  },
  {
   "cell_type": "code",
   "execution_count": 4,
   "id": "9977e868-94fa-4976-8794-4a1373a48f8c",
   "metadata": {},
   "outputs": [
    {
     "name": "stdout",
     "output_type": "stream",
     "text": [
      "Temperatures in Fahrenheit:\n",
      "46.76°F\n",
      "63.32°F\n",
      "57.38°F\n",
      "46.22°F\n",
      "66.02°F\n",
      "56.30°F\n",
      "48.20°F\n",
      "64.04°F\n",
      "55.40°F\n",
      "47.30°F\n",
      "61.70°F\n",
      "55.22°F\n",
      "45.86°F\n",
      "62.96°F\n",
      "47.12°F\n",
      "62.06°F\n",
      "57.20°F\n",
      "49.10°F\n",
      "64.94°F\n",
      "56.12°F\n",
      "46.58°F\n",
      "64.22°F\n",
      "57.56°F\n",
      "45.68°F\n",
      "62.60°F\n",
      "55.04°F\n",
      "46.40°F\n",
      "62.24°F\n",
      "56.66°F\n",
      "46.04°F\n",
      "63.50°F\n",
      "56.48°F\n",
      "47.66°F\n",
      "62.78°F\n",
      "56.84°F\n",
      "48.56°F\n",
      "64.58°F\n",
      "57.02°F\n",
      "46.94°F\n",
      "61.52°F\n",
      "54.86°F\n",
      "48.02°F\n",
      "64.76°F\n",
      "55.58°F\n",
      "46.04°F\n",
      "61.88°F\n",
      "54.50°F\n"
     ]
    }
   ],
   "source": [
    "#task3\n",
    "def celsius_to_fahrenheit(celsius):\n",
    "    return (celsius * 9/5) + 32\n",
    "\n",
    "\n",
    "temperature_celsius = [\n",
    "    8.2, 17.4, 14.1, 7.9, 18.9, 13.5, 9.0, 17.8, 13.0, 8.5, 16.5, 12.9, 7.7, 17.2,\n",
    "    8.4, 16.7, 14.0, 9.5, 18.3, 13.4, 8.1, 17.9, 14.2, 7.6, 17.0, 12.8, 8.0, 16.8,\n",
    "    13.7, 7.8, 17.5, 13.6, 8.7, 17.1, 13.8, 9.2, 18.1, 13.9, 8.3, 16.4, 12.7, 8.9,\n",
    "    18.2, 13.1, 7.8, 16.6, 12.5\n",
    "]\n",
    "\n",
    "\n",
    "temperature_fahrenheit = [celsius_to_fahrenheit(temp) for temp in temperature_celsius]\n",
    "\n",
    "\n",
    "print(\"Temperatures in Fahrenheit:\")\n",
    "for temp in temperature_fahrenheit:\n",
    "    print(f\"{temp:.2f}°F\")\n"
   ]
  },
  {
   "cell_type": "code",
   "execution_count": 5,
   "id": "11487552-8ec4-44cd-b72d-79842d8f5381",
   "metadata": {},
   "outputs": [
    {
     "name": "stdout",
     "output_type": "stream",
     "text": [
      "Night Temperatures: [8.2, 17.4, 14.1, 7.9, 18.9, 13.5, 9.0, 17.8, 17.0, 12.8, 8.0, 16.8, 13.7, 7.8, 17.5, 13.6]\n",
      "Evening Temperatures: [13.0, 8.5, 16.5, 12.9, 7.7, 17.2, 8.4, 16.7, 8.7, 17.1, 13.8, 9.2, 18.1, 13.9, 8.3, 16.4]\n",
      "Day Temperatures: [14.0, 9.5, 18.3, 13.4, 8.1, 17.9, 14.2, 7.6, 12.7, 8.9, 18.2, 13.1, 7.8, 16.6, 12.5]\n",
      "Average Day-Time Temperature: 12.85°C\n"
     ]
    }
   ],
   "source": [
    "#task4\n",
    "temperature = [\n",
    "    8.2, 17.4, 14.1, 7.9, 18.9, 13.5, 9.0, 17.8, 13.0, 8.5, 16.5, 12.9, 7.7, 17.2,\n",
    "    8.4, 16.7, 14.0, 9.5, 18.3, 13.4, 8.1, 17.9, 14.2, 7.6, 17.0, 12.8, 8.0, 16.8,\n",
    "    13.7, 7.8, 17.5, 13.6, 8.7, 17.1, 13.8, 9.2, 18.1, 13.9, 8.3, 16.4, 12.7, 8.9,\n",
    "    18.2, 13.1, 7.8, 16.6, 12.5\n",
    "]\n",
    "\n",
    "\n",
    "night_temperatures = []\n",
    "evening_temperatures = []\n",
    "day_temperatures = []\n",
    "\n",
    "for index, temp in enumerate(temperature):\n",
    "    if index % 24 < 8:  \n",
    "        night_temperatures.append(temp)\n",
    "    elif 8 <= index % 24 < 16:  \n",
    "        evening_temperatures.append(temp)\n",
    "    else:  # Day: 16-24\n",
    "        day_temperatures.append(temp)\n",
    "\n",
    "\n",
    "if day_temperatures:\n",
    "    average_day_temperature = sum(day_temperatures) / len(day_temperatures)\n",
    "else:\n",
    "    average_day_temperature = None\n",
    "\n",
    "\n",
    "print(\"Night Temperatures:\", night_temperatures)\n",
    "print(\"Evening Temperatures:\", evening_temperatures)\n",
    "print(\"Day Temperatures:\", day_temperatures)\n",
    "\n",
    "if average_day_temperature is not None:\n",
    "    print(f\"Average Day-Time Temperature: {average_day_temperature:.2f}°C\")\n",
    "else:\n",
    "    print(\"No day-time temperatures available for calculation.\")\n"
   ]
  },
  {
   "cell_type": "code",
   "execution_count": 6,
   "id": "c56445b1-e4b5-4f5e-ae54-9d2017165d79",
   "metadata": {},
   "outputs": [
    {
     "name": "stdout",
     "output_type": "stream",
     "text": [
      "The total sum of the nested list is: 36\n"
     ]
    }
   ],
   "source": [
    "#task5\n",
    "def sum_nested_list(nested_list):\n",
    "    \n",
    "    total_sum = 0\n",
    "    for item in nested_list:\n",
    "        if isinstance(item, list):\n",
    "            \n",
    "            total_sum += sum_nested_list(item)\n",
    "        else:\n",
    "            \n",
    "            total_sum += item\n",
    "    return total_sum\n",
    "\n",
    "\n",
    "nested_list = [1, [2, [3, 4], 5], 6, [7, 8]]\n",
    "result = sum_nested_list(nested_list)\n",
    "print(f\"The total sum of the nested list is: {result}\")\n"
   ]
  },
  {
   "cell_type": "code",
   "execution_count": 14,
   "id": "00d0cef9-3073-4e12-8c45-00597986c6ce",
   "metadata": {},
   "outputs": [
    {
     "name": "stdout",
     "output_type": "stream",
     "text": [
      "Minimum number of coins to make 11: 3\n"
     ]
    }
   ],
   "source": [
    "#task6\n",
    "def min_coins(coins, amount):\n",
    " \n",
    "\n",
    "    dp = [amount + 1] * (amount + 1)\n",
    "    dp[0] = 0 \n",
    "\n",
    "   \n",
    "    for a in range(1, amount + 1):\n",
    "        for coin in coins:\n",
    "            if a - coin >= 0:\n",
    "                dp[a] = min(dp[a], dp[a - coin] + 1)\n",
    "\n",
    "   \n",
    "    return dp[amount] if dp[amount] != amount + 1 else -1\n",
    "\n",
    "\n",
    "\n",
    "coins = [1, 2, 5]\n",
    "amount = 11\n",
    "result = min_coins(coins, amount)\n",
    "print(f\"Minimum number of coins to make {amount}: {result}\")\n"
   ]
  },
  {
   "cell_type": "code",
   "execution_count": 11,
   "id": "6f66f80f-7053-43f5-889f-2356c0d01f77",
   "metadata": {},
   "outputs": [
    {
     "name": "stdout",
     "output_type": "stream",
     "text": [
      "Length of LCS for 'abcde' and 'ace': 3\n"
     ]
    }
   ],
   "source": [
    "#task7\n",
    "def longest_common_subsequence(s1, s2):\n",
    "    \n",
    "    \n",
    "    m, n = len(s1), len(s2)\n",
    "\n",
    "\n",
    "    dp = [[0] * (n + 1) for _ in range(m + 1)]\n",
    "\n",
    "   \n",
    "    for i in range(1, m + 1):\n",
    "        for j in range(1, n + 1):\n",
    "            if s1[i - 1] == s2[j - 1]: \n",
    "                dp[i][j] = dp[i - 1][j - 1] + 1\n",
    "            else: \n",
    "                dp[i][j] = max(dp[i - 1][j], dp[i][j - 1])\n",
    "\n",
    "   \n",
    "    return dp[m][n]\n",
    "\n",
    "\n",
    "\n",
    "s1 = \"abcde\"\n",
    "s2 = \"ace\"\n",
    "result = longest_common_subsequence(s1, s2)\n",
    "print(f\"Length of LCS for '{s1}' and '{s2}': {result}\")\n"
   ]
  },
  {
   "cell_type": "code",
   "execution_count": 17,
   "id": "ab4aced4-f4f8-49bb-ab3c-db04136da8d2",
   "metadata": {},
   "outputs": [
    {
     "name": "stdout",
     "output_type": "stream",
     "text": [
      "Total directory size: 210 KB\n"
     ]
    }
   ],
   "source": [
    "#task8\n",
    "def calculate_directory_size(directory):\n",
    "   \n",
    "    total_size = 0\n",
    "\n",
    "    for key, value in directory.items():\n",
    "        if isinstance(value, dict):  \n",
    "            total_size += calculate_directory_size(value)\n",
    "        else:  \n",
    "            total_size += value\n",
    "\n",
    "    return total_size\n",
    "\n",
    "\n",
    "\n",
    "sample_directory = {\n",
    "    \"file1.txt\": 10,\n",
    "    \"file2.txt\": 20,\n",
    "    \"subdir1\": {\n",
    "        \"file3.txt\": 30,\n",
    "        \"subsubdir1\": {\n",
    "            \"file4.txt\": 40\n",
    "        }\n",
    "    },\n",
    "    \"subdir2\": {\n",
    "        \"file5.txt\": 50,\n",
    "        \"file6.txt\": 60\n",
    "    }\n",
    "}\n",
    "\n",
    "\n",
    "total_size = calculate_directory_size(sample_directory)\n",
    "print(f\"Total directory size: {total_size} KB\")\n"
   ]
  },
  {
   "cell_type": "code",
   "execution_count": 9,
   "id": "d1132cca-8f8e-4e9b-a572-635db69d7e15",
   "metadata": {},
   "outputs": [
    {
     "name": "stdout",
     "output_type": "stream",
     "text": [
      "Maximum value for capacity 7: 9\n"
     ]
    }
   ],
   "source": [
    "#task9\n",
    "def knapsack(weights, values, capacity):\n",
    "  \n",
    "    n = len(weights)\n",
    "    \n",
    "    \n",
    "    dp = [[0] * (capacity + 1) for _ in range(n + 1)]\n",
    "\n",
    "   \n",
    "    for i in range(1, n + 1):\n",
    "        for w in range(1, capacity + 1):\n",
    "            if weights[i - 1] <= w: \n",
    "                dp[i][w] = max(dp[i - 1][w], values[i - 1] + dp[i - 1][w - weights[i - 1]])\n",
    "            else:  \n",
    "                dp[i][w] = dp[i - 1][w]\n",
    "\n",
    "    return dp[n][capacity]\n",
    "weights = [1, 3, 4, 5]\n",
    "values = [1, 4, 5, 7]\n",
    "capacity = 7\n",
    "result = knapsack(weights, values, capacity)\n",
    "print(f\"Maximum value for capacity {capacity}: {result}\")\n"
   ]
  },
  {
   "cell_type": "code",
   "execution_count": 16,
   "id": "d256ef56-0b11-4fe8-9a20-0f362ad1d7eb",
   "metadata": {},
   "outputs": [
    {
     "name": "stdout",
     "output_type": "stream",
     "text": [
      "Total directory size: 1400 KB\n"
     ]
    }
   ],
   "source": [
    "#task10\n",
    "def calculate_directory_size(directory):\n",
    "\n",
    "    total_size = 0\n",
    "    \n",
    "    for key, value in directory.items():\n",
    "        if isinstance(value, dict):\n",
    "            total_size += calculate_directory_size(value)\n",
    "        else:\n",
    "            total_size += value\n",
    "    \n",
    "    return total_size\n",
    "\n",
    "\n",
    "sample_directory = {\n",
    "    \"file1.txt\": 100,\n",
    "    \"file2.txt\": 200,\n",
    "    \"subdir1\": {\n",
    "        \"file3.txt\": 300,\n",
    "        \"subdir2\": {\n",
    "            \"file4.txt\": 400,\n",
    "            \"file5.txt\": 150\n",
    "        }\n",
    "    },\n",
    "    \"file6.txt\": 250\n",
    "}\n",
    "\n",
    "\n",
    "total_size = calculate_directory_size(sample_directory)\n",
    "print(f\"Total directory size: {total_size} KB\")\n"
   ]
  }
 ],
 "metadata": {
  "kernelspec": {
   "display_name": "Python 3 (ipykernel)",
   "language": "python",
   "name": "python3"
  },
  "language_info": {
   "codemirror_mode": {
    "name": "ipython",
    "version": 3
   },
   "file_extension": ".py",
   "mimetype": "text/x-python",
   "name": "python",
   "nbconvert_exporter": "python",
   "pygments_lexer": "ipython3",
   "version": "3.13.0"
  }
 },
 "nbformat": 4,
 "nbformat_minor": 5
}
